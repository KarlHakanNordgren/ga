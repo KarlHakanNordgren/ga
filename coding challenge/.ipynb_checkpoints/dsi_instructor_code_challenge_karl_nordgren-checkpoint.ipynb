{
 "cells": [
  {
   "cell_type": "markdown",
   "metadata": {},
   "source": [
    "# Instructor Task\n",
    "## Dataset\n",
    "- [Here](https://s3-us-west-2.amazonaws.com/ga-dat-2015-suneel/datasets/breast-cancer.csv) is the dataset.\n",
    "- [Here](https://archive.ics.uci.edu/ml/machine-learning-databases/breast-cancer-wisconsin/wdbc.names) is a description of the data. Ignore column 0 as it is merely the ID of a patient record."
   ]
  },
  {
   "cell_type": "markdown",
   "metadata": {},
   "source": [
    "### Imports"
   ]
  },
  {
   "cell_type": "markdown",
   "metadata": {},
   "source": [
    "First we import the modules required by the project."
   ]
  },
  {
   "cell_type": "code",
   "execution_count": 1,
   "metadata": {
    "collapsed": false
   },
   "outputs": [],
   "source": [
    "import pandas\n",
    "import numpy\n",
    "from sklearn.linear_model import LogisticRegression\n",
    "from sklearn.cross_validation import cross_val_score, train_test_split\n",
    "from sklearn.metrics import classification_report\n",
    "import time\n",
    "from sklearn.preprocessing import scale\n",
    "from sklearn.linear_model import LogisticRegressionCV\n",
    "import matplotlib.pyplot as plt"
   ]
  },
  {
   "cell_type": "markdown",
   "metadata": {},
   "source": [
    "## 1. Read in the data"
   ]
  },
  {
   "cell_type": "markdown",
   "metadata": {},
   "source": [
    "We read in the Wisconsin Diagnostic Breast Cancer dataset. "
   ]
  },
  {
   "cell_type": "code",
   "execution_count": 2,
   "metadata": {
    "collapsed": false
   },
   "outputs": [],
   "source": [
    "breast_cancer_df = pandas.read_csv(\"https://s3-us-west-2.amazonaws.com/ga-dat-2015-suneel/datasets/breast-cancer.csv\", header = None)"
   ]
  },
  {
   "cell_type": "markdown",
   "metadata": {},
   "source": [
    "## 2. Separate the data into feature and target."
   ]
  },
  {
   "cell_type": "markdown",
   "metadata": {},
   "source": [
    "We create a dependent variable $y$ which takes the value $1$ for malignant cases and the value $0$ for benign cases. We also create a matrix of independent variables $X$."
   ]
  },
  {
   "cell_type": "code",
   "execution_count": 3,
   "metadata": {
    "collapsed": false
   },
   "outputs": [],
   "source": [
    "y = numpy.where(numpy.array(breast_cancer_df.ix[:, 1]) == \"M\", 1, 0)\n",
    "\n",
    "X = breast_cancer_df.ix[:, 2:(breast_cancer_df.shape[1])].as_matrix()"
   ]
  },
  {
   "cell_type": "markdown",
   "metadata": {},
   "source": [
    "The dependent variable is imbalanced, with the malignant class being the minority class."
   ]
  },
  {
   "cell_type": "code",
   "execution_count": 4,
   "metadata": {
    "collapsed": false
   },
   "outputs": [
    {
     "name": "stdout",
     "output_type": "stream",
     "text": [
      "The dependent variable is imbalanced: \n",
      "[[  0 357]\n",
      " [  1 212]]\n"
     ]
    }
   ],
   "source": [
    "unique, counts = numpy.unique(y, return_counts=True)\n",
    "print \"The dependent variable is imbalanced: \"\n",
    "print numpy.asarray((unique, counts)).T"
   ]
  },
  {
   "cell_type": "markdown",
   "metadata": {},
   "source": [
    "## 3. Create and evaluate using cross_val_score and 5 folds.\n",
    "- What is the mean accuracy?\n",
    "- What is the standard deviation of accuracy?"
   ]
  },
  {
   "cell_type": "markdown",
   "metadata": {},
   "source": [
    "As below we use LogisticRegressionCV to tune model parameters, we begin by fitting a logistic regression model. Random Forests, Naive Bayes, Support Vector Machine, and neural network models have also been succesfully trained on this dataset.\n",
    "\n",
    "As mentioned above, the dataset is imbalanced so the logistic regresssion models improve if we set class_weight = 'balanced'."
   ]
  },
  {
   "cell_type": "code",
   "execution_count": 5,
   "metadata": {
    "collapsed": false
   },
   "outputs": [],
   "source": [
    "logistic_estimator = LogisticRegression(class_weight = 'balanced', C = 1)\n",
    "logistic_regression_cv_score = cross_val_score(logistic_estimator, X, y, cv = 5, n_jobs = -1)"
   ]
  },
  {
   "cell_type": "markdown",
   "metadata": {},
   "source": [
    "The models have mean accuracy and accuracy standard deviation as follows."
   ]
  },
  {
   "cell_type": "code",
   "execution_count": 6,
   "metadata": {
    "collapsed": false
   },
   "outputs": [
    {
     "name": "stdout",
     "output_type": "stream",
     "text": [
      "Mean accuracy: 0.952612543286\n",
      "Mean standard deviation: 0.00858060619218\n"
     ]
    }
   ],
   "source": [
    "print \"Mean accuracy:\", numpy.mean(logistic_regression_cv_score)\n",
    "print \"Mean standard deviation:\", numpy.std(logistic_regression_cv_score)"
   ]
  },
  {
   "cell_type": "markdown",
   "metadata": {},
   "source": [
    "The accuracy is $95\\%$.\n",
    "\n",
    "Note that we are here using the default value for $C$, the so-called penalty coefficient, which is $1$ (more on this later)."
   ]
  },
  {
   "cell_type": "markdown",
   "metadata": {},
   "source": [
    "## 4. Get a classification report to identify type 1, type 2 errors.\n",
    "- Use train_test_split to run your model once, with a test size of 0.33\n",
    "- Make predictions on the test set\n",
    "- Compare the predictions to the answers to determine the classification report"
   ]
  },
  {
   "cell_type": "markdown",
   "metadata": {},
   "source": [
    "We now divide the dataset into a training set ($66\\%$) and a test set ($33\\%$)."
   ]
  },
  {
   "cell_type": "code",
   "execution_count": 7,
   "metadata": {
    "collapsed": false
   },
   "outputs": [],
   "source": [
    "X_train, X_test, y_train, y_test = train_test_split(X, y, test_size = 0.33, random_state = 42)"
   ]
  },
  {
   "cell_type": "markdown",
   "metadata": {},
   "source": [
    "We fit a logistic regression model on the training dataset. We also compute the training time. Training logistic regression models is significantly quicker than training Support Vector Machines, for example."
   ]
  },
  {
   "cell_type": "code",
   "execution_count": 8,
   "metadata": {
    "collapsed": true
   },
   "outputs": [],
   "source": [
    "start = time.time()\n",
    "\n",
    "logistic_estimator.fit(X_train, y_train)\n",
    "y_pred = logistic_estimator.predict(X_test)\n",
    "\n",
    "end = time.time()"
   ]
  },
  {
   "cell_type": "markdown",
   "metadata": {},
   "source": [
    "Here is the classification report for logisitic regression model."
   ]
  },
  {
   "cell_type": "code",
   "execution_count": 9,
   "metadata": {
    "collapsed": false
   },
   "outputs": [
    {
     "name": "stdout",
     "output_type": "stream",
     "text": [
      "             precision    recall  f1-score   support\n",
      "\n",
      "          0       0.97      0.97      0.97       121\n",
      "          1       0.94      0.96      0.95        67\n",
      "\n",
      "avg / total       0.96      0.96      0.96       188\n",
      "\n",
      "Time taken:  0.00574707984924 seconds.\n"
     ]
    }
   ],
   "source": [
    "print classification_report(y_test, y_pred)\n",
    "print \"Time taken: \", end - start, \"seconds.\""
   ]
  },
  {
   "cell_type": "markdown",
   "metadata": {},
   "source": [
    "As can be seen, the recall for the positive class (malignant) is $96\\%$, which means that the Type II error (false negative) is $4\\%$. The recall for the negative class (benign) is $97\\%$, which means that the Type I error (false positive) is $3\\%$.\n",
    "\n",
    "Note that we again used the default value of the penalty parameter (more on this later)."
   ]
  },
  {
   "cell_type": "markdown",
   "metadata": {},
   "source": [
    "## 5. Scale the data and see if that improves the score."
   ]
  },
  {
   "cell_type": "markdown",
   "metadata": {},
   "source": [
    "Because logistic regression models use a linear combination of the features, scaling the variables should improve accuracy. We scale the features to have mean $0$ and standard deviation $1$. Then we produce a training and test set from the scaled features."
   ]
  },
  {
   "cell_type": "code",
   "execution_count": 10,
   "metadata": {
    "collapsed": false
   },
   "outputs": [],
   "source": [
    "X_scaled = scale(X)\n",
    "\n",
    "X_scaled_train, X_scaled_test, y_train, y_test = train_test_split(X_scaled, y, test_size = 0.33, random_state = 42)"
   ]
  },
  {
   "cell_type": "markdown",
   "metadata": {},
   "source": [
    "We now fit a logistic regression model using the scaled data."
   ]
  },
  {
   "cell_type": "code",
   "execution_count": 11,
   "metadata": {
    "collapsed": true
   },
   "outputs": [],
   "source": [
    "start = time.time()\n",
    "\n",
    "logistic_estimator.fit(X_scaled_train, y_train)\n",
    "y_pred = logistic_estimator.predict(X_scaled_test)\n",
    "\n",
    "end = time.time()"
   ]
  },
  {
   "cell_type": "markdown",
   "metadata": {},
   "source": [
    "Here is the classification report for scaled logisitic regression model."
   ]
  },
  {
   "cell_type": "code",
   "execution_count": 12,
   "metadata": {
    "collapsed": false
   },
   "outputs": [
    {
     "name": "stdout",
     "output_type": "stream",
     "text": [
      "             precision    recall  f1-score   support\n",
      "\n",
      "          0       0.99      0.97      0.98       121\n",
      "          1       0.94      0.99      0.96        67\n",
      "\n",
      "avg / total       0.97      0.97      0.97       188\n",
      "\n",
      "Time taken:  0.00227785110474 seconds.\n"
     ]
    }
   ],
   "source": [
    "print classification_report(y_test, y_pred)\n",
    "print \"Time taken: \", end - start, \"seconds.\""
   ]
  },
  {
   "cell_type": "markdown",
   "metadata": {},
   "source": [
    "So summarising, fitting a logistic regression model without scaled predictors achieves models scores which are less good than those for scaled predictors, as expected."
   ]
  },
  {
   "cell_type": "markdown",
   "metadata": {},
   "source": [
    "## 6. Tune the model using automated parametric grid search via LogisticRegressionCV. Explain your intution behind what is being tuned."
   ]
  },
  {
   "cell_type": "markdown",
   "metadata": {},
   "source": [
    "We use LogisticRegressionCV to search for an optimal value of the so-called penalty coefficient. This coefficient determines how complex the model we are building will be. The larger the value of the coefficient, the more complex the model. \n",
    "\n",
    "A very complex model will suit the training data perfectly, but may not suit any other data at all. A very complex model is very certain about whether a case is benign or malignant (even unseen cases). There is less ambiguity in its predictions. \n",
    "\n",
    "On the one hand, since models are built to make predictions on unseen data, we need to be careful not to make models which are 'too perfect'. This is called overfitting.\n",
    "\n",
    "On the other hand, if the data indicate that we can distinguish between the malignant and benign cases with great certainty then building a complex model makes sense. Then we are able to make very certain predictions on unseen cases."
   ]
  },
  {
   "cell_type": "code",
   "execution_count": 13,
   "metadata": {
    "collapsed": false
   },
   "outputs": [],
   "source": [
    "start = time.time()\n",
    "\n",
    "logistic_estimator_grid = LogisticRegressionCV(Cs = 1000, scoring = 'accuracy', cv = 5, class_weight = 'balanced', n_jobs = -1)\n",
    "logistic_estimator_grid.fit(X_scaled_train, y_train)\n",
    "y_pred = logistic_estimator_grid.predict(X_scaled_test)\n",
    "\n",
    "end = time.time()"
   ]
  },
  {
   "cell_type": "markdown",
   "metadata": {},
   "source": [
    "Note that the parameter is tuned to optimise the accuracy of the models. It is also possible to optimise using the area under the ROC curve, or recall, or other model measures.\n",
    "\n",
    "Finally, note that we are still setting class_weight = 'balanced'; we are using 5-fold cross validation, and we are setting n_jobs = -1, which means that the computations are using all the cores available on the machine."
   ]
  },
  {
   "cell_type": "markdown",
   "metadata": {},
   "source": [
    "Here is the classification report for scaled logisitic regression in which the penalty parameter is tuned to optimise the accuracy."
   ]
  },
  {
   "cell_type": "code",
   "execution_count": 14,
   "metadata": {
    "collapsed": false
   },
   "outputs": [
    {
     "name": "stdout",
     "output_type": "stream",
     "text": [
      "             precision    recall  f1-score   support\n",
      "\n",
      "          0       0.99      0.98      0.98       121\n",
      "          1       0.96      0.99      0.97        67\n",
      "\n",
      "avg / total       0.98      0.98      0.98       188\n",
      "\n",
      "Time taken:  4.08057308197 seconds.\n"
     ]
    }
   ],
   "source": [
    "print classification_report(y_test, y_pred)\n",
    "print \"Time taken: \", end - start, \"seconds.\""
   ]
  },
  {
   "cell_type": "markdown",
   "metadata": {},
   "source": [
    "Above we see that in finding a model with an optimal penalty coefficient value we increase the models scores."
   ]
  },
  {
   "cell_type": "markdown",
   "metadata": {},
   "source": [
    "### Q: What should we do to prevent overfitting so our model generalizes well to the test data?"
   ]
  },
  {
   "cell_type": "markdown",
   "metadata": {},
   "source": [
    "As mentioned above, the optimal value of the penalty coefficient $C$ is lower than the one used when fitting the other models above (where we used the default value of $1$). This corresponds to a relatively higher weighting of the so-called penalty function for the coefficients. This means more penalty for complex models. \n",
    "\n",
    "So in summary: The grid search reveals that our models achieve the best possible generalisability if they are a little less complex."
   ]
  },
  {
   "cell_type": "markdown",
   "metadata": {},
   "source": [
    "### Q: What was the best C?"
   ]
  },
  {
   "cell_type": "markdown",
   "metadata": {},
   "source": [
    "The optimal value of $C$ is as below. It is significantly below the default value of $1$, meaning that the optimal models penalise the size of the regression coefficients, which means that complex models are penalised."
   ]
  },
  {
   "cell_type": "code",
   "execution_count": 15,
   "metadata": {
    "collapsed": false
   },
   "outputs": [
    {
     "name": "stdout",
     "output_type": "stream",
     "text": [
      "0.108401435918\n"
     ]
    }
   ],
   "source": [
    "print logistic_estimator_grid.C_[0]"
   ]
  },
  {
   "cell_type": "markdown",
   "metadata": {},
   "source": [
    "## 7. Create Two Plots that describe the data and discuss your results"
   ]
  },
  {
   "cell_type": "markdown",
   "metadata": {},
   "source": [
    "First let us find the most influential predictor for the model built with scaled data, but without optimising the penalty coefficient. As discussed these models are more complex than the models where an optimal value of the penalty coefficient has been found."
   ]
  },
  {
   "cell_type": "code",
   "execution_count": 16,
   "metadata": {
    "collapsed": false
   },
   "outputs": [
    {
     "name": "stdout",
     "output_type": "stream",
     "text": [
      "The index of the most influential predictor is:  21\n",
      "The coefficient of the most influential predictor is:  1.33243434826\n",
      "The intercept of the equation is:  0.0906885370272\n"
     ]
    }
   ],
   "source": [
    "index_of_influential_predictor_1 = numpy.argmax(numpy.abs(logistic_estimator.coef_))\n",
    "print \"The index of the most influential predictor is: \", index_of_influential_predictor_1\n",
    "\n",
    "coefficient_of_influential_predictor_1 = logistic_estimator.coef_[0, index_of_influential_predictor_1]\n",
    "print \"The coefficient of the most influential predictor is: \", coefficient_of_influential_predictor_1\n",
    "\n",
    "intercept_1 = logistic_estimator.intercept_[0]\n",
    "print \"The intercept of the equation is: \", intercept_1\n",
    "\n",
    "most_influential_predictor_1 = X_scaled_train[:, index_of_influential_predictor_1]"
   ]
  },
  {
   "cell_type": "markdown",
   "metadata": {},
   "source": [
    "Second let us find the most influential predictor for the model built with scaled data with an optimal penalty coefficient.  "
   ]
  },
  {
   "cell_type": "code",
   "execution_count": 17,
   "metadata": {
    "collapsed": false
   },
   "outputs": [
    {
     "name": "stdout",
     "output_type": "stream",
     "text": [
      "The index of the most influential predictor is:  21\n",
      "The coefficient of the most influential predictor is:  0.585862231214\n",
      "The intercept of the equation is:  -0.136521251072\n"
     ]
    }
   ],
   "source": [
    "index_of_influential_predictor_2 = numpy.argmax(numpy.abs(logistic_estimator_grid.coef_))\n",
    "print \"The index of the most influential predictor is: \", index_of_influential_predictor_2\n",
    "\n",
    "coefficient_of_influential_predictor_2 = logistic_estimator_grid.coef_[0, index_of_influential_predictor_2]\n",
    "print \"The coefficient of the most influential predictor is: \", coefficient_of_influential_predictor_2\n",
    "\n",
    "intercept_2 = logistic_estimator_grid.intercept_[0]\n",
    "print \"The intercept of the equation is: \", intercept_2\n",
    "\n",
    "most_influential_predictor_2 = X_scaled_train[:, index_of_influential_predictor_2]"
   ]
  },
  {
   "cell_type": "markdown",
   "metadata": {},
   "source": [
    "We see above that in the first case where the penalty coefficient is $1$ the coefficient of the most influential predictor is relatively larger, than in the second case where the penalty coefficient is much smaller than the default value $1$. This is because in the second case, large regression coefficient are penalised more than misclassification.\n",
    "\n",
    "Let us now see what effects this has on the models' forms."
   ]
  },
  {
   "cell_type": "markdown",
   "metadata": {},
   "source": [
    "In the first case the model is trained with a penalty coefficient of $1$ which means that relatively more complex models are allowed."
   ]
  },
  {
   "cell_type": "code",
   "execution_count": 18,
   "metadata": {
    "collapsed": false
   },
   "outputs": [
    {
     "data": {
      "text/plain": [
       "[<matplotlib.lines.Line2D at 0x10cb2ee50>]"
      ]
     },
     "execution_count": 18,
     "metadata": {},
     "output_type": "execute_result"
    },
    {
     "data": {
      "image/png": "[encoded data removed]",
      "text/plain": [
       "<matplotlib.figure.Figure at 0x10cb25590>"
      ]
     },
     "metadata": {},
     "output_type": "display_data"
    }
   ],
   "source": [
    "%matplotlib inline\n",
    "\n",
    "def model(x):\n",
    "    return 1 / (1 + numpy.exp(-x))\n",
    "\n",
    "plt.figure(1, figsize = (10, 7))\n",
    "#plt.logistic_estimator\n",
    "plt.scatter(most_influential_predictor_1, y_train, color='black', zorder=20)\n",
    "X_scaled_test = numpy.linspace(numpy.min(most_influential_predictor_1), numpy.max(most_influential_predictor_1), 300)\n",
    "\n",
    "loss = model(X_scaled_test * coefficient_of_influential_predictor_1 + intercept_1).ravel()\n",
    "plt.plot(X_scaled_test, loss, color = 'blue', linewidth = 3)"
   ]
  },
  {
   "cell_type": "code",
   "execution_count": 19,
   "metadata": {
    "collapsed": false
   },
   "outputs": [
    {
     "data": {
      "text/plain": [
       "[<matplotlib.lines.Line2D at 0x10ce445d0>]"
      ]
     },
     "execution_count": 19,
     "metadata": {},
     "output_type": "execute_result"
    },
    {
     "data": {
      "image/png": "[encoded data removed]",
      "text/plain": [
       "<matplotlib.figure.Figure at 0x10cb25750>"
      ]
     },
     "metadata": {},
     "output_type": "display_data"
    }
   ],
   "source": [
    "plt.figure(1, figsize = (10, 7))\n",
    "plt.scatter(most_influential_predictor_2, y_train, color = 'black', zorder = 20)\n",
    "X_scaled_test = numpy.linspace(numpy.min(most_influential_predictor_2), numpy.max(most_influential_predictor_2), 300)\n",
    "\n",
    "loss = model(X_scaled_test * coefficient_of_influential_predictor_2 + intercept_2).ravel()\n",
    "plt.plot(X_scaled_test, loss, color = 'blue', linewidth = 3)"
   ]
  },
  {
   "cell_type": "markdown",
   "metadata": {},
   "source": [
    "Looking at the above plots we see that in the first model where complex models are not penalised as strongly, the model is very certain that the cases for small values of the $x$ coordinate are $0$ (benign). It is also very certain that cases with large values of the $x$ coordinate are $1$ (malignant).\n",
    "\n",
    "In the second model, for small values of the $x$ coordinate the models is less sure that the case is benign -- it only gives a $20\\%$ probability. For large values of the $x$ coordinate the models are less sure that the case is malignant -- it only gives a $80\\%$ probability."
   ]
  },
  {
   "cell_type": "markdown",
   "metadata": {},
   "source": [
    "## 8. Provide a one-sentence summary for a non-technical audience. Then provide a longer paragraph-length technical explanation."
   ]
  },
  {
   "cell_type": "markdown",
   "metadata": {},
   "source": [
    "In this project we have seen that when we train models we have to carefully separate the training dataset and the test dataset. It is possible to build a very complex model which performs perfectly on the training dataset, but does not perform well at all on the test dataset. This is called overfitting.\n",
    "\n",
    "As we saw above, it is possible to make less complex model which performs less well on the training dataset. Which also performs better on the training dataset."
   ]
  },
  {
   "cell_type": "markdown",
   "metadata": {
    "collapsed": false
   },
   "source": [
    "To avoid overfitting we optimised the penalty coefficient $C$. The optimal coefficient is found by considering the below loss function for the logistic regression estimator:\n",
    "\n",
    "$$ \\min_w \\left (\\frac{1}{2} \\|w\\|_2 + C \\sum_{i = 1}^n \\log \\left (\\exp(-[2y_i - 1] f(w, x_i) + 1\\right) \\right), $$\n",
    "\n",
    "where $w$ are the coefficients of the regressors; $\\|w\\|_2$ is the $L_2$-norm of the coefficients; $C$ is penalty coefficient; the $y_i$ are the dependent variables; and the $x_i$ are the regressors. Finally, $f(w, x_i) = w_0 + w_1x_{i1} + \\ldots + w_mx_{im}$.\n",
    "\n",
    "The penalty coefficient $C$ determines what is penalised more: Misclassifications or large coefficients. If $C$ is very small then the first term in the above equation will be the most influential: That means that large coefficients will have the largest impact on the above. \n",
    "\n",
    "If $C$ is very large, then the second term in the above will be the most influential. For correctly classified points $-[2y_i - 1] f(w, x_i)$ is negative and therefore $\\log \\left (\\exp(-[2y_i - 1] f(w, x_i) + 1\\right)$ is close to 0. For incorrectly classified points $-[2y_i - 1] f(w, x_i)$ is positive and therefore $\\log \\left (\\exp(-[2y_i - 1] f(w, x_i) + 1\\right)$ can be large.\n",
    "\n",
    "This means that for very large $C$, misclassified cases are relatively more important than model complexity. \n",
    "\n",
    "In the above, when we used $C = 1$, misclassifications were penalised more which meant that the models were very accurate on the training set. The models achieved this great accuracy by using large coefficient values. This resulted in worse accuracy on the test sets, however.\n",
    "\n",
    "When we optimised for $C$ we found that a value around $0.1$ lead to better generalisability. This means that misclassifications are relatively less important than large coefficients. This means that the models were less accurate on the training set, but did not get punished as severely for those inaccuracies. Because the model had smaller coefficients as a result, it was less complex. This means that it was less certain in its predictions, which meant that it was less inaccurate on the unseen test data."
   ]
  }
 ],
 "metadata": {
  "kernelspec": {
   "display_name": "Python 2",
   "language": "python",
   "name": "python2"
  },
  "language_info": {
   "codemirror_mode": {
    "name": "ipython",
    "version": 2
   },
   "file_extension": ".py",
   "mimetype": "text/x-python",
   "name": "python",
   "nbconvert_exporter": "python",
   "pygments_lexer": "ipython2",
   "version": "2.7.12"
  }
 },
 "nbformat": 4,
 "nbformat_minor": 0
}
